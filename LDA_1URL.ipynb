{
  "nbformat": 4,
  "nbformat_minor": 0,
  "metadata": {
    "colab": {
      "provenance": [],
      "authorship_tag": "ABX9TyMzz0ALCgyoxvLX+emKx94x",
      "include_colab_link": true
    },
    "kernelspec": {
      "name": "python3",
      "display_name": "Python 3"
    },
    "language_info": {
      "name": "python"
    }
  },
  "cells": [
    {
      "cell_type": "markdown",
      "metadata": {
        "id": "view-in-github",
        "colab_type": "text"
      },
      "source": [
        "<a href=\"https://colab.research.google.com/github/ascentadmin/lda/blob/main/LDA_1URL.ipynb\" target=\"_parent\"><img src=\"https://colab.research.google.com/assets/colab-badge.svg\" alt=\"Open In Colab\"/></a>"
      ]
    },
    {
      "cell_type": "code",
      "source": [
        "!pip install konlpy\n",
        "!pip install gensim\n",
        "!pip install beautifulsoup4\n",
        "!pip install requests\n",
        "\n",
        "# SudachiPy와 관련된 라이브러리 설치 (일본어 형태소 분석을 위해)\n",
        "!pip install sudachipy\n",
        "!pip install sudachidict_core\n"
      ],
      "metadata": {
        "colab": {
          "base_uri": "https://localhost:8080/"
        },
        "id": "A_WzioJmo6VA",
        "outputId": "c03f27e3-3294-4d08-d01e-5a7f5ddebb02"
      },
      "execution_count": null,
      "outputs": [
        {
          "output_type": "stream",
          "name": "stdout",
          "text": [
            "Collecting konlpy\n",
            "  Downloading konlpy-0.6.0-py2.py3-none-any.whl (19.4 MB)\n",
            "\u001b[2K     \u001b[90m━━━━━━━━━━━━━━━━━━━━━━━━━━━━━━━━━━━━━━━━\u001b[0m \u001b[32m19.4/19.4 MB\u001b[0m \u001b[31m31.3 MB/s\u001b[0m eta \u001b[36m0:00:00\u001b[0m\n",
            "\u001b[?25hCollecting JPype1>=0.7.0 (from konlpy)\n",
            "  Downloading JPype1-1.5.0-cp310-cp310-manylinux_2_17_x86_64.manylinux2014_x86_64.whl (488 kB)\n",
            "\u001b[2K     \u001b[90m━━━━━━━━━━━━━━━━━━━━━━━━━━━━━━━━━━━━━━━━\u001b[0m \u001b[32m488.6/488.6 kB\u001b[0m \u001b[31m34.6 MB/s\u001b[0m eta \u001b[36m0:00:00\u001b[0m\n",
            "\u001b[?25hRequirement already satisfied: lxml>=4.1.0 in /usr/local/lib/python3.10/dist-packages (from konlpy) (4.9.4)\n",
            "Requirement already satisfied: numpy>=1.6 in /usr/local/lib/python3.10/dist-packages (from konlpy) (1.25.2)\n",
            "Requirement already satisfied: packaging in /usr/local/lib/python3.10/dist-packages (from JPype1>=0.7.0->konlpy) (23.2)\n",
            "Installing collected packages: JPype1, konlpy\n",
            "Successfully installed JPype1-1.5.0 konlpy-0.6.0\n",
            "Requirement already satisfied: gensim in /usr/local/lib/python3.10/dist-packages (4.3.2)\n",
            "Requirement already satisfied: numpy>=1.18.5 in /usr/local/lib/python3.10/dist-packages (from gensim) (1.25.2)\n",
            "Requirement already satisfied: scipy>=1.7.0 in /usr/local/lib/python3.10/dist-packages (from gensim) (1.11.4)\n",
            "Requirement already satisfied: smart-open>=1.8.1 in /usr/local/lib/python3.10/dist-packages (from gensim) (6.4.0)\n",
            "Requirement already satisfied: beautifulsoup4 in /usr/local/lib/python3.10/dist-packages (4.12.3)\n",
            "Requirement already satisfied: soupsieve>1.2 in /usr/local/lib/python3.10/dist-packages (from beautifulsoup4) (2.5)\n",
            "Requirement already satisfied: requests in /usr/local/lib/python3.10/dist-packages (2.31.0)\n",
            "Requirement already satisfied: charset-normalizer<4,>=2 in /usr/local/lib/python3.10/dist-packages (from requests) (3.3.2)\n",
            "Requirement already satisfied: idna<4,>=2.5 in /usr/local/lib/python3.10/dist-packages (from requests) (3.6)\n",
            "Requirement already satisfied: urllib3<3,>=1.21.1 in /usr/local/lib/python3.10/dist-packages (from requests) (2.0.7)\n",
            "Requirement already satisfied: certifi>=2017.4.17 in /usr/local/lib/python3.10/dist-packages (from requests) (2024.2.2)\n",
            "Collecting sudachipy\n",
            "  Downloading SudachiPy-0.6.8-cp310-cp310-manylinux_2_17_x86_64.manylinux2014_x86_64.whl (2.6 MB)\n",
            "\u001b[2K     \u001b[90m━━━━━━━━━━━━━━━━━━━━━━━━━━━━━━━━━━━━━━━━\u001b[0m \u001b[32m2.6/2.6 MB\u001b[0m \u001b[31m1.7 MB/s\u001b[0m eta \u001b[36m0:00:00\u001b[0m\n",
            "\u001b[?25hInstalling collected packages: sudachipy\n",
            "Successfully installed sudachipy-0.6.8\n",
            "Collecting sudachidict_core\n",
            "  Downloading SudachiDict_core-20240109-py3-none-any.whl (71.8 MB)\n",
            "\u001b[2K     \u001b[90m━━━━━━━━━━━━━━━━━━━━━━━━━━━━━━━━━━━━━━━━\u001b[0m \u001b[32m71.8/71.8 MB\u001b[0m \u001b[31m9.7 MB/s\u001b[0m eta \u001b[36m0:00:00\u001b[0m\n",
            "\u001b[?25hRequirement already satisfied: SudachiPy<0.7,>=0.5 in /usr/local/lib/python3.10/dist-packages (from sudachidict_core) (0.6.8)\n",
            "Installing collected packages: sudachidict_core\n",
            "Successfully installed sudachidict_core-20240109\n"
          ]
        }
      ]
    },
    {
      "cell_type": "code",
      "source": [
        "import requests\n",
        "from bs4 import BeautifulSoup\n",
        "from konlpy.tag import Okt\n",
        "from gensim import corpora, models\n",
        "from sudachipy import tokenizer\n",
        "from sudachipy import dictionary\n",
        "from collections import defaultdict\n",
        "\n",
        "# 불용어 리스트 로드 함수 수정\n",
        "def load_stopwords(lang_code):\n",
        "    if lang_code == 'kr':\n",
        "        filepath = '/content/kr-stopword.txt'\n",
        "    elif lang_code == 'jp':\n",
        "        filepath = '/content/jp-stopword.txt'\n",
        "    else:\n",
        "        raise ValueError(\"Unsupported language code\")\n",
        "\n",
        "    with open(filepath, 'r', encoding='utf-8') as file:\n",
        "        stopwords = file.read().splitlines()\n",
        "    return stopwords\n",
        "\n",
        "# 웹페이지 텍스트 추출 함수\n",
        "def get_text_from_url(url):\n",
        "    response = requests.get(url)\n",
        "    soup = BeautifulSoup(response.content, 'html.parser')\n",
        "    text = soup.get_text(separator=' ', strip=True)\n",
        "    return text\n",
        "\n",
        "# 형태소 분석 및 불용어 처리 함수\n",
        "def analyze_text(lang, text, stopwords):\n",
        "    processed_text = []\n",
        "    if lang == 'kr':\n",
        "        okt = Okt()\n",
        "        tokens = okt.nouns(text)\n",
        "    elif lang == 'jp':\n",
        "        sudachi = dictionary.Dictionary().create()\n",
        "        mode = tokenizer.Tokenizer.SplitMode.C\n",
        "        tokens = [m.surface() for m in sudachi.tokenize(text, mode)]\n",
        "    processed_text = [word for word in tokens if word not in stopwords and len(word) > 1] # 길이가 1 이상인 단어만 포함\n",
        "    return processed_text\n",
        "\n",
        "# LDA 모델 생성 및 결과 출력 함수, 주요 단어 15개 추출\n",
        "def create_lda_model(processed_docs, num_topics=15, num_words=25):\n",
        "    dictionary = corpora.Dictionary(processed_docs)\n",
        "    corpus = [dictionary.doc2bow(doc) for doc in processed_docs]\n",
        "    lda_model = models.LdaModel(corpus, num_topics=num_topics, id2word=dictionary, passes=10)\n",
        "\n",
        "    # 단어별 스코어 합산\n",
        "    word_scores = defaultdict(float)\n",
        "    for idx in range(num_topics):\n",
        "        for word, score in lda_model.show_topic(idx, topn=num_words):\n",
        "            word_scores[word] += score\n",
        "\n",
        "    # 결과 출력\n",
        "    for word, score in sorted(word_scores.items(), key=lambda item: item[1], reverse=True):\n",
        "        print(f\"{word}: {score:.3f}\")\n",
        "\n",
        "# 메인 실행\n",
        "if __name__ == \"__main__\":\n",
        "    lang = input(\"Enter language (kr for Korean, jp for Japanese): \")\n",
        "    url = input(\"Enter URL: \")\n",
        "    text = get_text_from_url(url)\n",
        "    stopwords = load_stopwords(lang)\n",
        "    processed_text = analyze_text(lang, text, stopwords)\n",
        "    processed_docs = [processed_text]\n",
        "    create_lda_model(processed_docs, num_topics=15, num_words=25)\n"
      ],
      "metadata": {
        "colab": {
          "base_uri": "https://localhost:8080/"
        },
        "id": "u_R78l1OUJ8t",
        "outputId": "e124a347-3574-4d8b-fb58-aa2ced3c49ef"
      },
      "execution_count": null,
      "outputs": [
        {
          "output_type": "stream",
          "name": "stdout",
          "text": [
            "Enter language (kr for Korean, jp for Japanese): jp\n",
            "Enter URL: https://sakidori.co/article/2103404\n",
            "テレビ: 0.071\n",
            "映像: 0.043\n",
            "見る: 0.041\n",
            "おすすめ: 0.040\n",
            "メーカー: 0.039\n",
            "モデル: 0.037\n",
            "搭載: 0.036\n",
            "液晶: 0.035\n",
            "おり: 0.032\n",
            "機能: 0.032\n",
            "Amazon: 0.030\n",
            "家電: 0.030\n",
            "楽天: 0.030\n",
            "技術: 0.029\n",
            "有機: 0.029\n",
            "カメラ: 0.029\n",
            "EL: 0.028\n",
            "市場: 0.028\n",
            "人気: 0.027\n",
            "対応: 0.027\n",
            "採用: 0.026\n",
            "年版: 0.024\n",
            "2024: 0.023\n",
            "動画: 0.021\n",
            "実現: 0.018\n",
            "画質: 0.006\n",
            "特徴: 0.006\n",
            "魅力: 0.005\n",
            "優れ: 0.003\n",
            "紹介: 0.003\n",
            "録画: 0.003\n",
            "楽しめる: 0.003\n",
            "再現: 0.002\n",
            "画面: 0.002\n",
            "パネル: 0.001\n",
            "一覧: 0.001\n",
            "記事: 0.001\n"
          ]
        }
      ]
    },
    {
      "cell_type": "code",
      "source": [],
      "metadata": {
        "id": "ad-H1tgeo7V6"
      },
      "execution_count": null,
      "outputs": []
    }
  ]
}